{
 "cells": [
  {
   "cell_type": "markdown",
   "metadata": {},
   "source": [
    "# Unit Commitment Problem Formulation\n",
    "\n"
   ]
  },
  {
   "cell_type": "markdown",
   "metadata": {},
   "source": [
    "### Input Data Model\n"
   ]
  },
  {
   "cell_type": "markdown",
   "metadata": {},
   "source": [
    "#### Indices\n",
    "- $I$: Collection of generators.\n",
    "- $T$: Collection of time periods."
   ]
  },
  {
   "cell_type": "markdown",
   "metadata": {},
   "source": [
    "#### Parameters\n",
    "- $s_i$: Status of Generator $i$ at the start of the time horizon.\n",
    "- $d_t$: Demand for electric power (MW) in Period $t$.\n",
    "- $pl_i$: Minimum power output (MW) of Generator $i$ when operating.\n",
    "- $pu_i$: Maximum power output (MW) of Generator $i$.\n",
    "- $cp_{i}$: Production cost (dollar/MW) of Generator $i$.\n",
    "- $cu_{i}$: Startup cost (dollar) of Generator $i$.\n",
    "- $cd_{i}$: Shutdown cost (dollar) of Generator $i$.\n",
    "- $tu_{i}$: Minimum number of periods that Generator $i$ must be up before it can be shut down.\n",
    "- $td_{i}$: Minimum number of periods that Generator $i$ must be down before it can be started up."
   ]
  },
  {
   "cell_type": "markdown",
   "metadata": {},
   "source": [
    "### Decision Variables\n",
    "- $x_{it}$:\tPower production (MW) of Generator $i$ in Period $t$.\n",
    "- $y_{it}$: Equals $1$ if Generator $i$ is turned on in Period $t$, $0$ otherwise.\n",
    "- $z_{it}$: Equals $1$ if Generator $i$ is on in Period $t$, $0$ otherwise.\n",
    "- $w_{it}$: Equals $1$ if Generator $i$ is turned off in Period $t$, $0$ otherwise."
   ]
  },
  {
   "cell_type": "markdown",
   "metadata": {},
   "source": [
    "### Constraints\n",
    "* C1) Demand for power in Period $t$:\n",
    "    $$\\sum_i x_{it} \\geq d_{t}, \\quad \\forall t.$$\n",
    "\n",
    "* C2) If Generator $i$ is turned on in Period $t$, then it's on for $tu_i$ periods:\n",
    "    $$y_{it} \\leq z_{it'}, \\quad \\forall i, t, t' \\in[t,t+tu_i-1].$$\n",
    "    Alternative (aggregated version):\n",
    "    $$tu_i \\cdot y_{it} \\leq \\sum_{t\\leq t' \\leq t+tu_i-1}z_{it'}, \\quad \\forall i, t.$$\n",
    "\n",
    "* C3) If Generator $i$ is turned off in Period $t$, then it's off for $td_i$ periods:\n",
    "    $$w_{it} \\leq 1-z_{it'}, \\quad \\forall i, t, t' \\in[t,t+td_i-1].$$\n",
    "    \n",
    "* C4) Production of Generator $i$ must be between its lower and upper bounds:\n",
    "    $$pl_i \\cdot z_{it} \\leq x_{it} \\leq pu_i \\cdot z_{it}, \\quad \\forall i, t.$$\n",
    "    \n",
    "* C5) If Generator $i$ is off in Period $t-1$ and on in Period $t$, then it has been turned on:    \n",
    "    $$z_{it} - z_{it-1} \\leq y_{it}, \\quad \\forall i, t.$$\n",
    "\n",
    "* C6) If Generator $i$ is on in Period $t-1$ and off in Period $t$, then it has been turned off: \n",
    "    $$ z_{it-1} - z_{it} \\leq w_{it}, \\quad \\forall i, t.$$"
   ]
  },
  {
   "cell_type": "markdown",
   "metadata": {},
   "source": [
    "### Objective\n",
    "The goal is to minimize the total operation cost:\n",
    "$$\\min{\\sum_{it} cp_{i} \\cdot x_{it} + cu_i \\cdot y_{it} + cd_{i} \\cdot w_{it}}.$$"
   ]
  },
  {
   "cell_type": "markdown",
   "metadata": {},
   "source": [
    "## Additional Complexities"
   ]
  },
  {
   "cell_type": "markdown",
   "metadata": {},
   "source": [
    "### Startup and shutdown rates\n",
    "\n",
    "#### Parameters\n",
    "- $su_{i}$: Maximum startup rate (MW) of Generator $i$.\n",
    "- $sd_{i}$: Maximum shutdown rate (MW) of Generator $i$.\n",
    "\n",
    "#### Constraints\n",
    "* SR1) Production of Generator $i$ must not go over $su_i$ when it's starting up:\n",
    "    $$ x_{it} - p_{i} \\leq su_i + (pu_i - su_i) \\cdot (1- y_{it}), \\quad \\forall i, t=1.$$\n",
    "    $$ x_{it} - x_{it-1} \\leq su_i + (pu_i - su_i) \\cdot (1- y_{it}), \\quad \\forall i, t>1.$$\n",
    "* SR2) Production of Generator $i$ must be over $sd_i$ when it's shutting down:\n",
    "    $$ p_{i} - x_{it} \\leq sd_i + (pu_i - sd_i) \\cdot (1 - w_{it}), \\quad \\forall i, t=1.$$\n",
    "    $$ x_{it-1} - x_{it} \\leq sd_i + (pu_i - sd_i) \\cdot (1 - w_{it}), \\quad \\forall i, t>1.$$"
   ]
  }
 ],
 "metadata": {
  "kernelspec": {
   "display_name": "Python 3 (ipykernel)",
   "language": "python",
   "name": "python3"
  },
  "language_info": {
   "codemirror_mode": {
    "name": "ipython",
    "version": 3
   },
   "file_extension": ".py",
   "mimetype": "text/x-python",
   "name": "python",
   "nbconvert_exporter": "python",
   "pygments_lexer": "ipython3",
   "version": "3.8.8"
  }
 },
 "nbformat": 4,
 "nbformat_minor": 4
}
