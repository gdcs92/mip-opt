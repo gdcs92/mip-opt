{
 "cells": [
  {
   "cell_type": "markdown",
   "metadata": {},
   "source": [
    "# GrabBro Formulation\n",
    "\n",
    "Problem statement: https://www.mipwise.com/use-cases/grabbro"
   ]
  },
  {
   "cell_type": "markdown",
   "metadata": {},
   "source": [
    "## Formulation"
   ]
  },
  {
   "cell_type": "markdown",
   "metadata": {},
   "source": [
    "### Input Data Model\n",
    "\n",
    "#### Set of indices\n",
    "- $I$ - Set of locations ($i$ and $j$ for grocery shops and $H$ for the hotel).\n",
    "- $K$ - Set of grocery items.\n",
    "\n",
    "#### Parameters\n",
    "* $p_{ik}$ - Cost of item $k$ in shop $i$.\n",
    "* $c_{ij}$ - Transit cost between location $i$ and $j$."
   ]
  },
  {
   "cell_type": "markdown",
   "metadata": {},
   "source": [
    "### Decision Variables\n",
    "- $x_{ij}$ - Equals 1 if driver goes from location $i$ to location $j$, 0 otherwise.\n",
    "- $y_{ik}$ - Equals 1 if item $k$ is bought from shop $i$, 0 otherwise."
   ]
  },
  {
   "cell_type": "markdown",
   "metadata": {},
   "source": [
    "### Constraints\n",
    "* Driver departs from the hotel:\n",
    "$$\\sum_j x_{Hj} = 1.$$\n",
    "\n",
    "* Driver must return to the hotel:\n",
    "$$\\sum_i x_{iH} = 1.$$\n",
    "\n",
    "* Flow balance constraint for each location:\n",
    "$$\\sum_i x_{il} = \\sum_j x_{lj}, \\quad \\forall l \\in I.$$\n",
    "\n",
    "* Every item must be bought in some shop:\n",
    "$$\\sum_{i \\in I_k} y_{ik} = 1, \\quad \\forall k \\in K.$$\n",
    "where $I_k \\subseteq I$ is the subset of shops that sell item $k$.\n",
    "\n",
    "* Driver must visit the cities where any items are bought:\n",
    "$$ y_{jk} \\leq \\sum_i x_{ij}, \\quad \\forall j \\in I,\\, k \\in K.$$"
   ]
  },
  {
   "cell_type": "markdown",
   "metadata": {},
   "source": [
    "### Objective\n",
    "The objective is to minimize the total purchasing and travel cost.\n",
    "$$\\min{\\sum_{ij} c_{ij} x_{ij}} + \\sum_{ik} p_{ik} y_{ik}.$$"
   ]
  }
 ],
 "metadata": {
  "kernelspec": {
   "display_name": "Python 3 (ipykernel)",
   "language": "python",
   "name": "python3"
  },
  "language_info": {
   "codemirror_mode": {
    "name": "ipython",
    "version": 3
   },
   "file_extension": ".py",
   "mimetype": "text/x-python",
   "name": "python",
   "nbconvert_exporter": "python",
   "pygments_lexer": "ipython3",
   "version": "3.8.13"
  }
 },
 "nbformat": 4,
 "nbformat_minor": 4
}
