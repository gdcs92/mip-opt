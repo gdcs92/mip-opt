{
 "cells": [
  {
   "cell_type": "markdown",
   "metadata": {},
   "source": [
    "# Pastesian Formulation (with fixed cost)\n",
    "\n",
    "The statement of the basic use case is on Mip Wise's website: \n",
    "[mipwise.com/use-cases/pastesian](https://www.mipwise.com/use-cases/pastesian). \n",
    "\n",
    "This formulation considers an slightly extended version that includes multiple types of lasagnas and a fixed cost for producing lasagnas of Type $i$ in Period $t$."
   ]
  },
  {
   "cell_type": "markdown",
   "metadata": {},
   "source": [
    "### Input Data Model\n"
   ]
  },
  {
   "cell_type": "markdown",
   "metadata": {},
   "source": [
    "#### Indices\n",
    "- $I$: Collection of types of lasagnas.\n",
    "- $T$: Collection of time periods."
   ]
  },
  {
   "cell_type": "markdown",
   "metadata": {},
   "source": [
    "#### Parameters\n",
    "- $pc_{it}$: Production cost (dollar/unit) for lasagnas of Type $i$ in Period $t$.\n",
    "- $ic_{it}$: Inventory cost (dollar/unit) for lasagnas of Type $i$ in Period $t$.\n",
    "- $fc_{it}$: Fixed cost (dollar) to produce lasagnas of Type $i$ in Period $t$.\n",
    "- $d_{it}$: Demand (units) for lasagnas of Type $i$ in Period $t$.\n",
    "- $pu_{t}$: Production capacity (units) of the factory in Period $t$."
   ]
  },
  {
   "cell_type": "markdown",
   "metadata": {},
   "source": [
    "### Decision Variables\n",
    "- $x_{it}$: Number of lasagnas of Type $i$ to be produced in Period $t$.\n",
    "- $s_{it}$: Number of lasagnas of Type $i$ to be stored from Period $t$ to Period $t+1$.\n",
    "- $z_{it}$: Equals $1$ if at least one unit of lasagna of Type $i$ is produced in Perido $t$, $0$ otherwise."
   ]
  },
  {
   "cell_type": "markdown",
   "metadata": {},
   "source": [
    "### Constraints\n",
    "* C1) Flow balance constraint for Period $t$:\n",
    "$$s_{it-1} + x_{it} = d_{it} + s_{it}, \\quad \\forall i, t.$$\n",
    "\n",
    "* C2) Production capacity of Period $t$:\n",
    "$$\\sum_i x_{it} \\leq pu_{t}, \\quad \\forall t.$$\n",
    "\n",
    "* C3) If lasagnas of Type $i$ are produced in Period $t$, then $z_{it}$ equals $1$:\n",
    "$$x_{it} \\leq pu_{t} \\cdot z_{it}, \\quad \\forall i, t.$$"
   ]
  },
  {
   "cell_type": "markdown",
   "metadata": {},
   "source": [
    "### Objective\n",
    "The goal is to minimize the total production, inventory, and fixed cost:\n",
    "$$\\min{\\sum_{it} (pc_{it} \\cdot x_{it} + ic_{it} \\cdot s_{it} + fc_{it} \\cdot z_{it})}.$$"
   ]
  },
  {
   "cell_type": "markdown",
   "metadata": {},
   "source": [
    "### Valid Inequalities\n",
    "\n",
    "The following valid inequalities are derived from the paper:   \n",
    "[Imre Barany, Tony J. Van Roy, Laurence A. Wolsey, (1984) Strong Formulations for Multi-Item Capacitated Lot Sizing. Management Science 30(10):1255-1261](https://pubsonline.informs.org/doi/epdf/10.1287/mnsc.30.10.1255).\n",
    "\n",
    "Let $dd_{it_1t_2}$ be the constant defined as follows:\n",
    "$$dd_{it_1t_2} = \\sum_{t_1 \\leq t \\leq t_2} d_{it}, \\quad \\forall i \\in I, t_1, t_2 \\in T.$$\n",
    "\n",
    "For any $t$ in $T$, let $L_t=\\{t' \\in T:  t' \\leq t\\}$ and let $S$ be a subset of $L_t$.\n",
    "\n",
    "Then the following is a valid inequality for the problem above:\n",
    "$$\\sum_{t'\\in S} x_{it'} + \\sum_{t' \\in L\\setminus S} dd_{it't}\\cdot z_{it'} \\geq dd_{i1t}, \\quad \\forall i, t, S \\subset L_t.$$"
   ]
  }
 ],
 "metadata": {
  "kernelspec": {
   "display_name": "Python 3 (ipykernel)",
   "language": "python",
   "name": "python3"
  },
  "language_info": {
   "codemirror_mode": {
    "name": "ipython",
    "version": 3
   },
   "file_extension": ".py",
   "mimetype": "text/x-python",
   "name": "python",
   "nbconvert_exporter": "python",
   "pygments_lexer": "ipython3",
   "version": "3.8.8"
  }
 },
 "nbformat": 4,
 "nbformat_minor": 4
}
